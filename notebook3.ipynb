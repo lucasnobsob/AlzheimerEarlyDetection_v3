{
 "cells": [
  {
   "cell_type": "code",
   "execution_count": 2,
   "metadata": {},
   "outputs": [
    {
     "name": "stdout",
     "output_type": "stream",
     "text": [
      "True\n",
      "NVIDIA GeForce RTX 3050\n"
     ]
    }
   ],
   "source": [
    "import torch\n",
    "print(torch.cuda.is_available())  # Should return True\n",
    "print(torch.cuda.get_device_name(0))  # Should return 'NVIDIA GeForce RTX 3050'"
   ]
  },
  {
   "cell_type": "code",
   "execution_count": 3,
   "metadata": {},
   "outputs": [
    {
     "name": "stdout",
     "output_type": "stream",
     "text": [
      "              ID M/F Hand  Age  Educ  SES  MMSE  CDR  eTIV   nWBV    ASF  \\\n",
      "0  OAS1_0001_MR1   F    R   74   2.0  3.0  29.0  0.0  1344  0.743  1.306   \n",
      "1  OAS1_0002_MR1   F    R   55   4.0  1.0  29.0  0.0  1147  0.810  1.531   \n",
      "2  OAS1_0003_MR1   F    R   73   4.0  3.0  27.0  0.5  1454  0.708  1.207   \n",
      "3  OAS1_0004_MR1   M    R   28   NaN  NaN   NaN  NaN  1588  0.803  1.105   \n",
      "4  OAS1_0005_MR1   M    R   18   NaN  NaN   NaN  NaN  1737  0.848  1.010   \n",
      "\n",
      "   Delay  \n",
      "0    NaN  \n",
      "1    NaN  \n",
      "2    NaN  \n",
      "3    NaN  \n",
      "4    NaN  \n"
     ]
    }
   ],
   "source": [
    "import pandas as pd\n",
    "\n",
    "# Load the Excel file\n",
    "oasis_data = pd.read_excel('D:\\\\Projetos\\\\AlzheimerEarlyDetection_v3\\\\datasets\\\\oasis_cross-sectional.xlsx')\n",
    "\n",
    "# Display the first few rows\n",
    "print(oasis_data.head())"
   ]
  },
  {
   "cell_type": "code",
   "execution_count": 4,
   "metadata": {},
   "outputs": [
    {
     "name": "stdout",
     "output_type": "stream",
     "text": [
      "['D:\\\\Projetos\\\\AlzheimerEarlyDetection_v3\\\\datasets\\\\NonDemented\\\\OAS1_0001_MR1_1.nii_slice_121.png', 'D:\\\\Projetos\\\\AlzheimerEarlyDetection_v3\\\\datasets\\\\NonDemented\\\\OAS1_0001_MR1_1.nii_slice_122.png', 'D:\\\\Projetos\\\\AlzheimerEarlyDetection_v3\\\\datasets\\\\NonDemented\\\\OAS1_0001_MR1_1.nii_slice_123.png', 'D:\\\\Projetos\\\\AlzheimerEarlyDetection_v3\\\\datasets\\\\NonDemented\\\\OAS1_0001_MR1_1.nii_slice_124.png', 'D:\\\\Projetos\\\\AlzheimerEarlyDetection_v3\\\\datasets\\\\NonDemented\\\\OAS1_0001_MR1_1.nii_slice_125.png', 'D:\\\\Projetos\\\\AlzheimerEarlyDetection_v3\\\\datasets\\\\NonDemented\\\\OAS1_0001_MR1_1.nii_slice_126.png', 'D:\\\\Projetos\\\\AlzheimerEarlyDetection_v3\\\\datasets\\\\NonDemented\\\\OAS1_0001_MR1_1.nii_slice_127.png', 'D:\\\\Projetos\\\\AlzheimerEarlyDetection_v3\\\\datasets\\\\NonDemented\\\\OAS1_0001_MR1_1.nii_slice_128.png', 'D:\\\\Projetos\\\\AlzheimerEarlyDetection_v3\\\\datasets\\\\NonDemented\\\\OAS1_0001_MR1_1.nii_slice_129.png', 'D:\\\\Projetos\\\\AlzheimerEarlyDetection_v3\\\\datasets\\\\NonDemented\\\\OAS1_0001_MR1_1.nii_slice_130.png', 'D:\\\\Projetos\\\\AlzheimerEarlyDetection_v3\\\\datasets\\\\NonDemented\\\\OAS1_0001_MR1_1.nii_slice_131.png', 'D:\\\\Projetos\\\\AlzheimerEarlyDetection_v3\\\\datasets\\\\NonDemented\\\\OAS1_0001_MR1_1.nii_slice_132.png', 'D:\\\\Projetos\\\\AlzheimerEarlyDetection_v3\\\\datasets\\\\NonDemented\\\\OAS1_0001_MR1_1.nii_slice_133.png', 'D:\\\\Projetos\\\\AlzheimerEarlyDetection_v3\\\\datasets\\\\NonDemented\\\\OAS1_0001_MR1_1.nii_slice_134.png', 'D:\\\\Projetos\\\\AlzheimerEarlyDetection_v3\\\\datasets\\\\NonDemented\\\\OAS1_0001_MR1_1.nii_slice_135.png', 'D:\\\\Projetos\\\\AlzheimerEarlyDetection_v3\\\\datasets\\\\NonDemented\\\\OAS1_0001_MR1_1.nii_slice_136.png', 'D:\\\\Projetos\\\\AlzheimerEarlyDetection_v3\\\\datasets\\\\NonDemented\\\\OAS1_0001_MR1_1.nii_slice_137.png', 'D:\\\\Projetos\\\\AlzheimerEarlyDetection_v3\\\\datasets\\\\NonDemented\\\\OAS1_0001_MR1_1.nii_slice_138.png', 'D:\\\\Projetos\\\\AlzheimerEarlyDetection_v3\\\\datasets\\\\NonDemented\\\\OAS1_0001_MR1_1.nii_slice_139.png', 'D:\\\\Projetos\\\\AlzheimerEarlyDetection_v3\\\\datasets\\\\NonDemented\\\\OAS1_0001_MR1_1.nii_slice_140.png', 'D:\\\\Projetos\\\\AlzheimerEarlyDetection_v3\\\\datasets\\\\NonDemented\\\\OAS1_0001_MR1_1.nii_slice_141.png', 'D:\\\\Projetos\\\\AlzheimerEarlyDetection_v3\\\\datasets\\\\NonDemented\\\\OAS1_0001_MR1_1.nii_slice_142.png', 'D:\\\\Projetos\\\\AlzheimerEarlyDetection_v3\\\\datasets\\\\NonDemented\\\\OAS1_0001_MR1_1.nii_slice_143.png', 'D:\\\\Projetos\\\\AlzheimerEarlyDetection_v3\\\\datasets\\\\NonDemented\\\\OAS1_0001_MR1_1.nii_slice_144.png', 'D:\\\\Projetos\\\\AlzheimerEarlyDetection_v3\\\\datasets\\\\NonDemented\\\\OAS1_0001_MR1_1.nii_slice_145.png', 'D:\\\\Projetos\\\\AlzheimerEarlyDetection_v3\\\\datasets\\\\NonDemented\\\\OAS1_0001_MR1_1.nii_slice_146.png', 'D:\\\\Projetos\\\\AlzheimerEarlyDetection_v3\\\\datasets\\\\NonDemented\\\\OAS1_0001_MR1_1.nii_slice_147.png', 'D:\\\\Projetos\\\\AlzheimerEarlyDetection_v3\\\\datasets\\\\NonDemented\\\\OAS1_0001_MR1_1.nii_slice_148.png', 'D:\\\\Projetos\\\\AlzheimerEarlyDetection_v3\\\\datasets\\\\NonDemented\\\\OAS1_0001_MR1_1.nii_slice_149.png', 'D:\\\\Projetos\\\\AlzheimerEarlyDetection_v3\\\\datasets\\\\NonDemented\\\\OAS1_0001_MR1_1.nii_slice_150.png', 'D:\\\\Projetos\\\\AlzheimerEarlyDetection_v3\\\\datasets\\\\NonDemented\\\\OAS1_0001_MR1_1.nii_slice_151.png', 'D:\\\\Projetos\\\\AlzheimerEarlyDetection_v3\\\\datasets\\\\NonDemented\\\\OAS1_0001_MR1_1.nii_slice_152.png', 'D:\\\\Projetos\\\\AlzheimerEarlyDetection_v3\\\\datasets\\\\NonDemented\\\\OAS1_0001_MR1_1.nii_slice_153.png', 'D:\\\\Projetos\\\\AlzheimerEarlyDetection_v3\\\\datasets\\\\NonDemented\\\\OAS1_0001_MR1_1.nii_slice_154.png', 'D:\\\\Projetos\\\\AlzheimerEarlyDetection_v3\\\\datasets\\\\NonDemented\\\\OAS1_0001_MR1_1.nii_slice_155.png', 'D:\\\\Projetos\\\\AlzheimerEarlyDetection_v3\\\\datasets\\\\NonDemented\\\\OAS1_0001_MR1_1.nii_slice_156.png', 'D:\\\\Projetos\\\\AlzheimerEarlyDetection_v3\\\\datasets\\\\NonDemented\\\\OAS1_0001_MR1_1.nii_slice_157.png', 'D:\\\\Projetos\\\\AlzheimerEarlyDetection_v3\\\\datasets\\\\NonDemented\\\\OAS1_0001_MR1_1.nii_slice_158.png', 'D:\\\\Projetos\\\\AlzheimerEarlyDetection_v3\\\\datasets\\\\NonDemented\\\\OAS1_0001_MR1_1.nii_slice_159.png', 'D:\\\\Projetos\\\\AlzheimerEarlyDetection_v3\\\\datasets\\\\NonDemented\\\\OAS1_0001_MR1_1.nii_slice_160.png', 'D:\\\\Projetos\\\\AlzheimerEarlyDetection_v3\\\\datasets\\\\NonDemented\\\\OAS1_0001_MR1_2.nii_slice_103.png', 'D:\\\\Projetos\\\\AlzheimerEarlyDetection_v3\\\\datasets\\\\NonDemented\\\\OAS1_0001_MR1_2.nii_slice_104.png', 'D:\\\\Projetos\\\\AlzheimerEarlyDetection_v3\\\\datasets\\\\NonDemented\\\\OAS1_0001_MR1_2.nii_slice_105.png', 'D:\\\\Projetos\\\\AlzheimerEarlyDetection_v3\\\\datasets\\\\NonDemented\\\\OAS1_0001_MR1_2.nii_slice_106.png', 'D:\\\\Projetos\\\\AlzheimerEarlyDetection_v3\\\\datasets\\\\NonDemented\\\\OAS1_0001_MR1_2.nii_slice_107.png', 'D:\\\\Projetos\\\\AlzheimerEarlyDetection_v3\\\\datasets\\\\NonDemented\\\\OAS1_0001_MR1_2.nii_slice_108.png', 'D:\\\\Projetos\\\\AlzheimerEarlyDetection_v3\\\\datasets\\\\NonDemented\\\\OAS1_0001_MR1_2.nii_slice_109.png', 'D:\\\\Projetos\\\\AlzheimerEarlyDetection_v3\\\\datasets\\\\NonDemented\\\\OAS1_0001_MR1_2.nii_slice_110.png', 'D:\\\\Projetos\\\\AlzheimerEarlyDetection_v3\\\\datasets\\\\NonDemented\\\\OAS1_0001_MR1_2.nii_slice_111.png', 'D:\\\\Projetos\\\\AlzheimerEarlyDetection_v3\\\\datasets\\\\NonDemented\\\\OAS1_0001_MR1_2.nii_slice_112.png', 'D:\\\\Projetos\\\\AlzheimerEarlyDetection_v3\\\\datasets\\\\NonDemented\\\\OAS1_0001_MR1_2.nii_slice_113.png', 'D:\\\\Projetos\\\\AlzheimerEarlyDetection_v3\\\\datasets\\\\NonDemented\\\\OAS1_0001_MR1_2.nii_slice_114.png', 'D:\\\\Projetos\\\\AlzheimerEarlyDetection_v3\\\\datasets\\\\NonDemented\\\\OAS1_0001_MR1_2.nii_slice_115.png', 'D:\\\\Projetos\\\\AlzheimerEarlyDetection_v3\\\\datasets\\\\NonDemented\\\\OAS1_0001_MR1_2.nii_slice_116.png', 'D:\\\\Projetos\\\\AlzheimerEarlyDetection_v3\\\\datasets\\\\NonDemented\\\\OAS1_0001_MR1_2.nii_slice_117.png', 'D:\\\\Projetos\\\\AlzheimerEarlyDetection_v3\\\\datasets\\\\NonDemented\\\\OAS1_0001_MR1_2.nii_slice_118.png', 'D:\\\\Projetos\\\\AlzheimerEarlyDetection_v3\\\\datasets\\\\NonDemented\\\\OAS1_0001_MR1_2.nii_slice_119.png', 'D:\\\\Projetos\\\\AlzheimerEarlyDetection_v3\\\\datasets\\\\NonDemented\\\\OAS1_0001_MR1_2.nii_slice_120.png', 'D:\\\\Projetos\\\\AlzheimerEarlyDetection_v3\\\\datasets\\\\NonDemented\\\\OAS1_0001_MR1_2.nii_slice_121.png', 'D:\\\\Projetos\\\\AlzheimerEarlyDetection_v3\\\\datasets\\\\NonDemented\\\\OAS1_0001_MR1_2.nii_slice_122.png', 'D:\\\\Projetos\\\\AlzheimerEarlyDetection_v3\\\\datasets\\\\NonDemented\\\\OAS1_0001_MR1_2.nii_slice_123.png', 'D:\\\\Projetos\\\\AlzheimerEarlyDetection_v3\\\\datasets\\\\NonDemented\\\\OAS1_0001_MR1_2.nii_slice_124.png', 'D:\\\\Projetos\\\\AlzheimerEarlyDetection_v3\\\\datasets\\\\NonDemented\\\\OAS1_0001_MR1_2.nii_slice_125.png', 'D:\\\\Projetos\\\\AlzheimerEarlyDetection_v3\\\\datasets\\\\NonDemented\\\\OAS1_0001_MR1_2.nii_slice_126.png', 'D:\\\\Projetos\\\\AlzheimerEarlyDetection_v3\\\\datasets\\\\NonDemented\\\\OAS1_0001_MR1_2.nii_slice_127.png', 'D:\\\\Projetos\\\\AlzheimerEarlyDetection_v3\\\\datasets\\\\NonDemented\\\\OAS1_0001_MR1_2.nii_slice_128.png', 'D:\\\\Projetos\\\\AlzheimerEarlyDetection_v3\\\\datasets\\\\NonDemented\\\\OAS1_0001_MR1_2.nii_slice_129.png', 'D:\\\\Projetos\\\\AlzheimerEarlyDetection_v3\\\\datasets\\\\NonDemented\\\\OAS1_0001_MR1_2.nii_slice_130.png', 'D:\\\\Projetos\\\\AlzheimerEarlyDetection_v3\\\\datasets\\\\NonDemented\\\\OAS1_0001_MR1_2.nii_slice_131.png', 'D:\\\\Projetos\\\\AlzheimerEarlyDetection_v3\\\\datasets\\\\NonDemented\\\\OAS1_0001_MR1_2.nii_slice_132.png', 'D:\\\\Projetos\\\\AlzheimerEarlyDetection_v3\\\\datasets\\\\NonDemented\\\\OAS1_0001_MR1_2.nii_slice_133.png', 'D:\\\\Projetos\\\\AlzheimerEarlyDetection_v3\\\\datasets\\\\NonDemented\\\\OAS1_0001_MR1_2.nii_slice_134.png', 'D:\\\\Projetos\\\\AlzheimerEarlyDetection_v3\\\\datasets\\\\NonDemented\\\\OAS1_0001_MR1_2.nii_slice_135.png', 'D:\\\\Projetos\\\\AlzheimerEarlyDetection_v3\\\\datasets\\\\NonDemented\\\\OAS1_0001_MR1_2.nii_slice_136.png', 'D:\\\\Projetos\\\\AlzheimerEarlyDetection_v3\\\\datasets\\\\NonDemented\\\\OAS1_0001_MR1_2.nii_slice_137.png', 'D:\\\\Projetos\\\\AlzheimerEarlyDetection_v3\\\\datasets\\\\NonDemented\\\\OAS1_0001_MR1_2.nii_slice_138.png', 'D:\\\\Projetos\\\\AlzheimerEarlyDetection_v3\\\\datasets\\\\NonDemented\\\\OAS1_0001_MR1_2.nii_slice_139.png', 'D:\\\\Projetos\\\\AlzheimerEarlyDetection_v3\\\\datasets\\\\NonDemented\\\\OAS1_0001_MR1_2.nii_slice_140.png', 'D:\\\\Projetos\\\\AlzheimerEarlyDetection_v3\\\\datasets\\\\NonDemented\\\\OAS1_0001_MR1_2.nii_slice_141.png', 'D:\\\\Projetos\\\\AlzheimerEarlyDetection_v3\\\\datasets\\\\NonDemented\\\\OAS1_0001_MR1_2.nii_slice_142.png', 'D:\\\\Projetos\\\\AlzheimerEarlyDetection_v3\\\\datasets\\\\NonDemented\\\\OAS1_0001_MR1_2.nii_slice_143.png', 'D:\\\\Projetos\\\\AlzheimerEarlyDetection_v3\\\\datasets\\\\NonDemented\\\\OAS1_0001_MR1_2.nii_slice_144.png', 'D:\\\\Projetos\\\\AlzheimerEarlyDetection_v3\\\\datasets\\\\NonDemented\\\\OAS1_0001_MR1_2.nii_slice_145.png', 'D:\\\\Projetos\\\\AlzheimerEarlyDetection_v3\\\\datasets\\\\NonDemented\\\\OAS1_0001_MR1_2.nii_slice_146.png', 'D:\\\\Projetos\\\\AlzheimerEarlyDetection_v3\\\\datasets\\\\NonDemented\\\\OAS1_0001_MR1_2.nii_slice_147.png', 'D:\\\\Projetos\\\\AlzheimerEarlyDetection_v3\\\\datasets\\\\NonDemented\\\\OAS1_0001_MR1_2.nii_slice_148.png', 'D:\\\\Projetos\\\\AlzheimerEarlyDetection_v3\\\\datasets\\\\NonDemented\\\\OAS1_0001_MR1_2.nii_slice_149.png', 'D:\\\\Projetos\\\\AlzheimerEarlyDetection_v3\\\\datasets\\\\NonDemented\\\\OAS1_0001_MR1_2.nii_slice_150.png', 'D:\\\\Projetos\\\\AlzheimerEarlyDetection_v3\\\\datasets\\\\NonDemented\\\\OAS1_0001_MR1_2.nii_slice_151.png', 'D:\\\\Projetos\\\\AlzheimerEarlyDetection_v3\\\\datasets\\\\NonDemented\\\\OAS1_0001_MR1_2.nii_slice_152.png', 'D:\\\\Projetos\\\\AlzheimerEarlyDetection_v3\\\\datasets\\\\NonDemented\\\\OAS1_0001_MR1_2.nii_slice_153.png', 'D:\\\\Projetos\\\\AlzheimerEarlyDetection_v3\\\\datasets\\\\NonDemented\\\\OAS1_0001_MR1_2.nii_slice_154.png', 'D:\\\\Projetos\\\\AlzheimerEarlyDetection_v3\\\\datasets\\\\NonDemented\\\\OAS1_0001_MR1_2.nii_slice_155.png', 'D:\\\\Projetos\\\\AlzheimerEarlyDetection_v3\\\\datasets\\\\NonDemented\\\\OAS1_0001_MR1_2.nii_slice_156.png', 'D:\\\\Projetos\\\\AlzheimerEarlyDetection_v3\\\\datasets\\\\NonDemented\\\\OAS1_0001_MR1_2.nii_slice_157.png', 'D:\\\\Projetos\\\\AlzheimerEarlyDetection_v3\\\\datasets\\\\NonDemented\\\\OAS1_0001_MR1_2.nii_slice_158.png', 'D:\\\\Projetos\\\\AlzheimerEarlyDetection_v3\\\\datasets\\\\NonDemented\\\\OAS1_0001_MR1_3.nii_slice_109.png', 'D:\\\\Projetos\\\\AlzheimerEarlyDetection_v3\\\\datasets\\\\NonDemented\\\\OAS1_0001_MR1_3.nii_slice_110.png', 'D:\\\\Projetos\\\\AlzheimerEarlyDetection_v3\\\\datasets\\\\NonDemented\\\\OAS1_0001_MR1_3.nii_slice_111.png', 'D:\\\\Projetos\\\\AlzheimerEarlyDetection_v3\\\\datasets\\\\NonDemented\\\\OAS1_0001_MR1_3.nii_slice_112.png', 'D:\\\\Projetos\\\\AlzheimerEarlyDetection_v3\\\\datasets\\\\NonDemented\\\\OAS1_0001_MR1_3.nii_slice_113.png', 'D:\\\\Projetos\\\\AlzheimerEarlyDetection_v3\\\\datasets\\\\NonDemented\\\\OAS1_0001_MR1_3.nii_slice_114.png', 'D:\\\\Projetos\\\\AlzheimerEarlyDetection_v3\\\\datasets\\\\NonDemented\\\\OAS1_0001_MR1_3.nii_slice_115.png', 'D:\\\\Projetos\\\\AlzheimerEarlyDetection_v3\\\\datasets\\\\NonDemented\\\\OAS1_0001_MR1_3.nii_slice_116.png', 'D:\\\\Projetos\\\\AlzheimerEarlyDetection_v3\\\\datasets\\\\NonDemented\\\\OAS1_0001_MR1_3.nii_slice_117.png', 'D:\\\\Projetos\\\\AlzheimerEarlyDetection_v3\\\\datasets\\\\NonDemented\\\\OAS1_0001_MR1_3.nii_slice_118.png', 'D:\\\\Projetos\\\\AlzheimerEarlyDetection_v3\\\\datasets\\\\NonDemented\\\\OAS1_0001_MR1_3.nii_slice_119.png', 'D:\\\\Projetos\\\\AlzheimerEarlyDetection_v3\\\\datasets\\\\NonDemented\\\\OAS1_0001_MR1_3.nii_slice_120.png', 'D:\\\\Projetos\\\\AlzheimerEarlyDetection_v3\\\\datasets\\\\NonDemented\\\\OAS1_0001_MR1_3.nii_slice_121.png', 'D:\\\\Projetos\\\\AlzheimerEarlyDetection_v3\\\\datasets\\\\NonDemented\\\\OAS1_0001_MR1_3.nii_slice_122.png', 'D:\\\\Projetos\\\\AlzheimerEarlyDetection_v3\\\\datasets\\\\NonDemented\\\\OAS1_0001_MR1_3.nii_slice_123.png', 'D:\\\\Projetos\\\\AlzheimerEarlyDetection_v3\\\\datasets\\\\NonDemented\\\\OAS1_0001_MR1_3.nii_slice_124.png', 'D:\\\\Projetos\\\\AlzheimerEarlyDetection_v3\\\\datasets\\\\NonDemented\\\\OAS1_0001_MR1_3.nii_slice_125.png', 'D:\\\\Projetos\\\\AlzheimerEarlyDetection_v3\\\\datasets\\\\NonDemented\\\\OAS1_0001_MR1_3.nii_slice_126.png', 'D:\\\\Projetos\\\\AlzheimerEarlyDetection_v3\\\\datasets\\\\NonDemented\\\\OAS1_0001_MR1_3.nii_slice_127.png', 'D:\\\\Projetos\\\\AlzheimerEarlyDetection_v3\\\\datasets\\\\NonDemented\\\\OAS1_0001_MR1_3.nii_slice_128.png', 'D:\\\\Projetos\\\\AlzheimerEarlyDetection_v3\\\\datasets\\\\NonDemented\\\\OAS1_0001_MR1_3.nii_slice_129.png', 'D:\\\\Projetos\\\\AlzheimerEarlyDetection_v3\\\\datasets\\\\NonDemented\\\\OAS1_0001_MR1_3.nii_slice_130.png', 'D:\\\\Projetos\\\\AlzheimerEarlyDetection_v3\\\\datasets\\\\NonDemented\\\\OAS1_0001_MR1_3.nii_slice_131.png', 'D:\\\\Projetos\\\\AlzheimerEarlyDetection_v3\\\\datasets\\\\NonDemented\\\\OAS1_0001_MR1_3.nii_slice_132.png', 'D:\\\\Projetos\\\\AlzheimerEarlyDetection_v3\\\\datasets\\\\NonDemented\\\\OAS1_0001_MR1_3.nii_slice_133.png', 'D:\\\\Projetos\\\\AlzheimerEarlyDetection_v3\\\\datasets\\\\NonDemented\\\\OAS1_0001_MR1_3.nii_slice_134.png', 'D:\\\\Projetos\\\\AlzheimerEarlyDetection_v3\\\\datasets\\\\NonDemented\\\\OAS1_0001_MR1_3.nii_slice_135.png', 'D:\\\\Projetos\\\\AlzheimerEarlyDetection_v3\\\\datasets\\\\NonDemented\\\\OAS1_0001_MR1_3.nii_slice_136.png', 'D:\\\\Projetos\\\\AlzheimerEarlyDetection_v3\\\\datasets\\\\NonDemented\\\\OAS1_0001_MR1_3.nii_slice_137.png', 'D:\\\\Projetos\\\\AlzheimerEarlyDetection_v3\\\\datasets\\\\NonDemented\\\\OAS1_0001_MR1_3.nii_slice_138.png', 'D:\\\\Projetos\\\\AlzheimerEarlyDetection_v3\\\\datasets\\\\NonDemented\\\\OAS1_0001_MR1_3.nii_slice_139.png', 'D:\\\\Projetos\\\\AlzheimerEarlyDetection_v3\\\\datasets\\\\NonDemented\\\\OAS1_0001_MR1_3.nii_slice_140.png', 'D:\\\\Projetos\\\\AlzheimerEarlyDetection_v3\\\\datasets\\\\NonDemented\\\\OAS1_0001_MR1_3.nii_slice_141.png', 'D:\\\\Projetos\\\\AlzheimerEarlyDetection_v3\\\\datasets\\\\NonDemented\\\\OAS1_0001_MR1_3.nii_slice_142.png', 'D:\\\\Projetos\\\\AlzheimerEarlyDetection_v3\\\\datasets\\\\NonDemented\\\\OAS1_0001_MR1_3.nii_slice_143.png', 'D:\\\\Projetos\\\\AlzheimerEarlyDetection_v3\\\\datasets\\\\NonDemented\\\\OAS1_0001_MR1_3.nii_slice_144.png', 'D:\\\\Projetos\\\\AlzheimerEarlyDetection_v3\\\\datasets\\\\NonDemented\\\\OAS1_0001_MR1_3.nii_slice_145.png', 'D:\\\\Projetos\\\\AlzheimerEarlyDetection_v3\\\\datasets\\\\NonDemented\\\\OAS1_0001_MR1_3.nii_slice_146.png', 'D:\\\\Projetos\\\\AlzheimerEarlyDetection_v3\\\\datasets\\\\NonDemented\\\\OAS1_0001_MR1_3.nii_slice_147.png', 'D:\\\\Projetos\\\\AlzheimerEarlyDetection_v3\\\\datasets\\\\NonDemented\\\\OAS1_0001_MR1_3.nii_slice_148.png', 'D:\\\\Projetos\\\\AlzheimerEarlyDetection_v3\\\\datasets\\\\NonDemented\\\\OAS1_0001_MR1_3.nii_slice_149.png', 'D:\\\\Projetos\\\\AlzheimerEarlyDetection_v3\\\\datasets\\\\NonDemented\\\\OAS1_0001_MR1_3.nii_slice_150.png', 'D:\\\\Projetos\\\\AlzheimerEarlyDetection_v3\\\\datasets\\\\NonDemented\\\\OAS1_0001_MR1_3.nii_slice_151.png', 'D:\\\\Projetos\\\\AlzheimerEarlyDetection_v3\\\\datasets\\\\NonDemented\\\\OAS1_0001_MR1_3.nii_slice_152.png', 'D:\\\\Projetos\\\\AlzheimerEarlyDetection_v3\\\\datasets\\\\NonDemented\\\\OAS1_0001_MR1_3.nii_slice_153.png', 'D:\\\\Projetos\\\\AlzheimerEarlyDetection_v3\\\\datasets\\\\NonDemented\\\\OAS1_0001_MR1_3.nii_slice_154.png', 'D:\\\\Projetos\\\\AlzheimerEarlyDetection_v3\\\\datasets\\\\NonDemented\\\\OAS1_0001_MR1_3.nii_slice_155.png', 'D:\\\\Projetos\\\\AlzheimerEarlyDetection_v3\\\\datasets\\\\NonDemented\\\\OAS1_0001_MR1_3.nii_slice_156.png', 'D:\\\\Projetos\\\\AlzheimerEarlyDetection_v3\\\\datasets\\\\NonDemented\\\\OAS1_0001_MR1_3.nii_slice_157.png', 'D:\\\\Projetos\\\\AlzheimerEarlyDetection_v3\\\\datasets\\\\NonDemented\\\\OAS1_0001_MR1_3.nii_slice_158.png', 'D:\\\\Projetos\\\\AlzheimerEarlyDetection_v3\\\\datasets\\\\NonDemented\\\\OAS1_0001_MR1_3.nii_slice_159.png', 'D:\\\\Projetos\\\\AlzheimerEarlyDetection_v3\\\\datasets\\\\NonDemented\\\\OAS1_0001_MR1_3.nii_slice_160.png', 'D:\\\\Projetos\\\\AlzheimerEarlyDetection_v3\\\\datasets\\\\NonDemented\\\\OAS1_0001_MR1_3.nii_slice_161.png', 'D:\\\\Projetos\\\\AlzheimerEarlyDetection_v3\\\\datasets\\\\NonDemented\\\\OAS1_0001_MR1_3.nii_slice_162.png', 'D:\\\\Projetos\\\\AlzheimerEarlyDetection_v3\\\\datasets\\\\NonDemented\\\\OAS1_0001_MR1_3.nii_slice_163.png', 'D:\\\\Projetos\\\\AlzheimerEarlyDetection_v3\\\\datasets\\\\NonDemented\\\\OAS1_0001_MR1_3.nii_slice_164.png', 'D:\\\\Projetos\\\\AlzheimerEarlyDetection_v3\\\\datasets\\\\NonDemented\\\\OAS1_0001_MR1_4.nii_slice_107.png', 'D:\\\\Projetos\\\\AlzheimerEarlyDetection_v3\\\\datasets\\\\NonDemented\\\\OAS1_0001_MR1_4.nii_slice_108.png', 'D:\\\\Projetos\\\\AlzheimerEarlyDetection_v3\\\\datasets\\\\NonDemented\\\\OAS1_0001_MR1_4.nii_slice_109.png', 'D:\\\\Projetos\\\\AlzheimerEarlyDetection_v3\\\\datasets\\\\NonDemented\\\\OAS1_0001_MR1_4.nii_slice_110.png', 'D:\\\\Projetos\\\\AlzheimerEarlyDetection_v3\\\\datasets\\\\NonDemented\\\\OAS1_0001_MR1_4.nii_slice_111.png', 'D:\\\\Projetos\\\\AlzheimerEarlyDetection_v3\\\\datasets\\\\NonDemented\\\\OAS1_0001_MR1_4.nii_slice_112.png', 'D:\\\\Projetos\\\\AlzheimerEarlyDetection_v3\\\\datasets\\\\NonDemented\\\\OAS1_0001_MR1_4.nii_slice_113.png', 'D:\\\\Projetos\\\\AlzheimerEarlyDetection_v3\\\\datasets\\\\NonDemented\\\\OAS1_0001_MR1_4.nii_slice_114.png', 'D:\\\\Projetos\\\\AlzheimerEarlyDetection_v3\\\\datasets\\\\NonDemented\\\\OAS1_0001_MR1_4.nii_slice_115.png', 'D:\\\\Projetos\\\\AlzheimerEarlyDetection_v3\\\\datasets\\\\NonDemented\\\\OAS1_0001_MR1_4.nii_slice_116.png', 'D:\\\\Projetos\\\\AlzheimerEarlyDetection_v3\\\\datasets\\\\NonDemented\\\\OAS1_0001_MR1_4.nii_slice_117.png', 'D:\\\\Projetos\\\\AlzheimerEarlyDetection_v3\\\\datasets\\\\NonDemented\\\\OAS1_0001_MR1_4.nii_slice_118.png', 'D:\\\\Projetos\\\\AlzheimerEarlyDetection_v3\\\\datasets\\\\NonDemented\\\\OAS1_0001_MR1_4.nii_slice_119.png', 'D:\\\\Projetos\\\\AlzheimerEarlyDetection_v3\\\\datasets\\\\NonDemented\\\\OAS1_0001_MR1_4.nii_slice_120.png', 'D:\\\\Projetos\\\\AlzheimerEarlyDetection_v3\\\\datasets\\\\NonDemented\\\\OAS1_0001_MR1_4.nii_slice_121.png', 'D:\\\\Projetos\\\\AlzheimerEarlyDetection_v3\\\\datasets\\\\NonDemented\\\\OAS1_0001_MR1_4.nii_slice_122.png', 'D:\\\\Projetos\\\\AlzheimerEarlyDetection_v3\\\\datasets\\\\NonDemented\\\\OAS1_0001_MR1_4.nii_slice_123.png', 'D:\\\\Projetos\\\\AlzheimerEarlyDetection_v3\\\\datasets\\\\NonDemented\\\\OAS1_0001_MR1_4.nii_slice_124.png', 'D:\\\\Projetos\\\\AlzheimerEarlyDetection_v3\\\\datasets\\\\NonDemented\\\\OAS1_0001_MR1_4.nii_slice_125.png', 'D:\\\\Projetos\\\\AlzheimerEarlyDetection_v3\\\\datasets\\\\NonDemented\\\\OAS1_0001_MR1_4.nii_slice_126.png', 'D:\\\\Projetos\\\\AlzheimerEarlyDetection_v3\\\\datasets\\\\NonDemented\\\\OAS1_0001_MR1_4.nii_slice_127.png', 'D:\\\\Projetos\\\\AlzheimerEarlyDetection_v3\\\\datasets\\\\NonDemented\\\\OAS1_0001_MR1_4.nii_slice_128.png', 'D:\\\\Projetos\\\\AlzheimerEarlyDetection_v3\\\\datasets\\\\NonDemented\\\\OAS1_0001_MR1_4.nii_slice_129.png', 'D:\\\\Projetos\\\\AlzheimerEarlyDetection_v3\\\\datasets\\\\NonDemented\\\\OAS1_0001_MR1_4.nii_slice_130.png', 'D:\\\\Projetos\\\\AlzheimerEarlyDetection_v3\\\\datasets\\\\NonDemented\\\\OAS1_0001_MR1_4.nii_slice_131.png', 'D:\\\\Projetos\\\\AlzheimerEarlyDetection_v3\\\\datasets\\\\NonDemented\\\\OAS1_0001_MR1_4.nii_slice_132.png', 'D:\\\\Projetos\\\\AlzheimerEarlyDetection_v3\\\\datasets\\\\NonDemented\\\\OAS1_0001_MR1_4.nii_slice_133.png', 'D:\\\\Projetos\\\\AlzheimerEarlyDetection_v3\\\\datasets\\\\NonDemented\\\\OAS1_0001_MR1_4.nii_slice_134.png', 'D:\\\\Projetos\\\\AlzheimerEarlyDetection_v3\\\\datasets\\\\NonDemented\\\\OAS1_0001_MR1_4.nii_slice_135.png', 'D:\\\\Projetos\\\\AlzheimerEarlyDetection_v3\\\\datasets\\\\NonDemented\\\\OAS1_0001_MR1_4.nii_slice_136.png', 'D:\\\\Projetos\\\\AlzheimerEarlyDetection_v3\\\\datasets\\\\NonDemented\\\\OAS1_0001_MR1_4.nii_slice_137.png', 'D:\\\\Projetos\\\\AlzheimerEarlyDetection_v3\\\\datasets\\\\NonDemented\\\\OAS1_0001_MR1_4.nii_slice_138.png', 'D:\\\\Projetos\\\\AlzheimerEarlyDetection_v3\\\\datasets\\\\NonDemented\\\\OAS1_0001_MR1_4.nii_slice_139.png', 'D:\\\\Projetos\\\\AlzheimerEarlyDetection_v3\\\\datasets\\\\NonDemented\\\\OAS1_0001_MR1_4.nii_slice_140.png', 'D:\\\\Projetos\\\\AlzheimerEarlyDetection_v3\\\\datasets\\\\NonDemented\\\\OAS1_0001_MR1_4.nii_slice_141.png', 'D:\\\\Projetos\\\\AlzheimerEarlyDetection_v3\\\\datasets\\\\NonDemented\\\\OAS1_0001_MR1_4.nii_slice_142.png', 'D:\\\\Projetos\\\\AlzheimerEarlyDetection_v3\\\\datasets\\\\NonDemented\\\\OAS1_0001_MR1_4.nii_slice_143.png', 'D:\\\\Projetos\\\\AlzheimerEarlyDetection_v3\\\\datasets\\\\NonDemented\\\\OAS1_0001_MR1_4.nii_slice_144.png', 'D:\\\\Projetos\\\\AlzheimerEarlyDetection_v3\\\\datasets\\\\NonDemented\\\\OAS1_0001_MR1_4.nii_slice_145.png', 'D:\\\\Projetos\\\\AlzheimerEarlyDetection_v3\\\\datasets\\\\NonDemented\\\\OAS1_0001_MR1_4.nii_slice_146.png', 'D:\\\\Projetos\\\\AlzheimerEarlyDetection_v3\\\\datasets\\\\NonDemented\\\\OAS1_0001_MR1_4.nii_slice_147.png', 'D:\\\\Projetos\\\\AlzheimerEarlyDetection_v3\\\\datasets\\\\NonDemented\\\\OAS1_0001_MR1_4.nii_slice_148.png', 'D:\\\\Projetos\\\\AlzheimerEarlyDetection_v3\\\\datasets\\\\NonDemented\\\\OAS1_0001_MR1_4.nii_slice_149.png', 'D:\\\\Projetos\\\\AlzheimerEarlyDetection_v3\\\\datasets\\\\NonDemented\\\\OAS1_0001_MR1_4.nii_slice_150.png', 'D:\\\\Projetos\\\\AlzheimerEarlyDetection_v3\\\\datasets\\\\NonDemented\\\\OAS1_0001_MR1_4.nii_slice_151.png', 'D:\\\\Projetos\\\\AlzheimerEarlyDetection_v3\\\\datasets\\\\NonDemented\\\\OAS1_0001_MR1_4.nii_slice_152.png', 'D:\\\\Projetos\\\\AlzheimerEarlyDetection_v3\\\\datasets\\\\NonDemented\\\\OAS1_0001_MR1_4.nii_slice_153.png', 'D:\\\\Projetos\\\\AlzheimerEarlyDetection_v3\\\\datasets\\\\NonDemented\\\\OAS1_0001_MR1_4.nii_slice_154.png', 'D:\\\\Projetos\\\\AlzheimerEarlyDetection_v3\\\\datasets\\\\NonDemented\\\\OAS1_0001_MR1_4.nii_slice_155.png', 'D:\\\\Projetos\\\\AlzheimerEarlyDetection_v3\\\\datasets\\\\NonDemented\\\\OAS1_0001_MR1_4.nii_slice_156.png', 'D:\\\\Projetos\\\\AlzheimerEarlyDetection_v3\\\\datasets\\\\NonDemented\\\\OAS1_0001_MR1_4.nii_slice_157.png', 'D:\\\\Projetos\\\\AlzheimerEarlyDetection_v3\\\\datasets\\\\NonDemented\\\\OAS1_0001_MR1_4.nii_slice_158.png', 'D:\\\\Projetos\\\\AlzheimerEarlyDetection_v3\\\\datasets\\\\NonDemented\\\\OAS1_0001_MR1_4.nii_slice_159.png', 'D:\\\\Projetos\\\\AlzheimerEarlyDetection_v3\\\\datasets\\\\NonDemented\\\\OAS1_0001_MR1_4.nii_slice_160.png', 'D:\\\\Projetos\\\\AlzheimerEarlyDetection_v3\\\\datasets\\\\NonDemented\\\\OAS1_0001_MR1_4.nii_slice_161.png', 'D:\\\\Projetos\\\\AlzheimerEarlyDetection_v3\\\\datasets\\\\NonDemented\\\\OAS1_0001_MR1_4.nii_slice_162.png']\n"
     ]
    }
   ],
   "source": [
    "import os\n",
    "\n",
    "# Define the path to your image dataset\n",
    "image_dir = 'D:\\\\Projetos\\\\AlzheimerEarlyDetection_v3\\\\datasets'\n",
    "\n",
    "# Create a mapping from ID to image paths\n",
    "id_to_images = {}\n",
    "for root, dirs, files in os.walk(image_dir):\n",
    "    for file in files:\n",
    "        if file.endswith('.png'):\n",
    "            id_part = file.split('_')[0] + '_' + file.split('_')[1] + '_' + file.split('_')[2]\n",
    "            if id_part not in id_to_images:\n",
    "                id_to_images[id_part] = []\n",
    "            id_to_images[id_part].append(os.path.join(root, file))\n",
    "\n",
    "# Display an example\n",
    "print(id_to_images['OAS1_0001_MR1'])"
   ]
  },
  {
   "cell_type": "code",
   "execution_count": 5,
   "metadata": {},
   "outputs": [
    {
     "name": "stdout",
     "output_type": "stream",
     "text": [
      "              ID M/F Hand  Age  Educ  SES  MMSE  CDR  eTIV   nWBV    ASF  \\\n",
      "0  OAS1_0001_MR1   F    R   74   2.0  3.0  29.0  0.0  1344  0.743  1.306   \n",
      "1  OAS1_0002_MR1   F    R   55   4.0  1.0  29.0  0.0  1147  0.810  1.531   \n",
      "2  OAS1_0003_MR1   F    R   73   4.0  3.0  27.0  0.5  1454  0.708  1.207   \n",
      "3  OAS1_0004_MR1   M    R   28   NaN  NaN   NaN  NaN  1588  0.803  1.105   \n",
      "4  OAS1_0005_MR1   M    R   18   NaN  NaN   NaN  NaN  1737  0.848  1.010   \n",
      "\n",
      "   Delay                                         ImagePaths  \n",
      "0    NaN  [D:\\Projetos\\AlzheimerEarlyDetection_v3\\datase...  \n",
      "1    NaN  [D:\\Projetos\\AlzheimerEarlyDetection_v3\\datase...  \n",
      "2    NaN  [D:\\Projetos\\AlzheimerEarlyDetection_v3\\datase...  \n",
      "3    NaN  [D:\\Projetos\\AlzheimerEarlyDetection_v3\\datase...  \n",
      "4    NaN  [D:\\Projetos\\AlzheimerEarlyDetection_v3\\datase...  \n"
     ]
    }
   ],
   "source": [
    "# Add a column for image paths\n",
    "oasis_data['ImagePaths'] = oasis_data['ID'].map(id_to_images)\n",
    "\n",
    "# Drop rows with no corresponding images\n",
    "oasis_data = oasis_data.dropna(subset=['ImagePaths'])\n",
    "\n",
    "# Display the updated dataframe\n",
    "print(oasis_data.head())"
   ]
  },
  {
   "cell_type": "code",
   "execution_count": 6,
   "metadata": {},
   "outputs": [],
   "source": [
    "from torch.utils.data import Dataset\n",
    "from PIL import Image\n",
    "import torchvision.transforms as transforms\n",
    "import torch.nn.functional as F\n",
    "\n",
    "# Define a fixed sequence length\n",
    "MAX_SEQ_LENGTH = 10  # Adjust based on your dataset\n",
    "\n",
    "class DementiaDataset(Dataset):\n",
    "    def __init__(self, dataframe, transform=None):\n",
    "        self.dataframe = dataframe\n",
    "        self.transform = transform\n",
    "\n",
    "    def __len__(self):\n",
    "        return len(self.dataframe)\n",
    "\n",
    "    def __getitem__(self, idx):\n",
    "        row = self.dataframe.iloc[idx]\n",
    "        image_paths = row['ImagePaths']\n",
    "        \n",
    "        # Load all images for the given ID\n",
    "        images = []\n",
    "        for path in image_paths:\n",
    "            image = Image.open(path).convert('RGB')  # Convert to RGB\n",
    "            print(image)\n",
    "            if self.transform:\n",
    "                image = self.transform(image)  # Apply transformations (including resizing)\n",
    "            images.append(image)\n",
    "        \n",
    "        # Pad or truncate the sequence to a fixed length\n",
    "        if len(images) > MAX_SEQ_LENGTH:\n",
    "            images = images[:MAX_SEQ_LENGTH]  # Truncate\n",
    "        elif len(images) < MAX_SEQ_LENGTH:\n",
    "            # Pad with zero tensors\n",
    "            padding = [torch.zeros_like(images[0]) for _ in range(MAX_SEQ_LENGTH - len(images))]\n",
    "            images.extend(padding)\n",
    "        \n",
    "        # Stack images into a single tensor\n",
    "        images = torch.stack(images)  # Now all sequences have the same length\n",
    "        \n",
    "        # Extract demographic data\n",
    "        demographics = torch.tensor([\n",
    "            row['Age'],\n",
    "            row['Educ'],\n",
    "            1 if row['M/F'] == 'M' else 0,  # Encode gender as 0 or 1\n",
    "            1 if row['Hand'] == 'R' else 0   # Encode handedness as 0 or 1\n",
    "        ], dtype=torch.float32)\n",
    "        \n",
    "        # Extract label (encode the dementia categories as integers)\n",
    "        label_map = {'NonDemented': 0, 'VeryMildDemented': 1, 'MildDemented': 2, 'ModerateDemented': 3}\n",
    "        label = label_map[row['DementiaCategory']]\n",
    "        \n",
    "        return images, demographics, label\n",
    "\n"
   ]
  },
  {
   "cell_type": "code",
   "execution_count": 7,
   "metadata": {},
   "outputs": [],
   "source": [
    "import torch.nn as nn\n",
    "import torch.nn.functional as F\n",
    "\n",
    "class DementiaModel(nn.Module):\n",
    "    def __init__(self):\n",
    "        super(DementiaModel, self).__init__()\n",
    "        self.cnn = nn.Sequential(\n",
    "            nn.Conv2d(3, 32, kernel_size=3, stride=1, padding=1),\n",
    "            nn.ReLU(),\n",
    "            nn.MaxPool2d(kernel_size=2, stride=2),\n",
    "            nn.Conv2d(32, 64, kernel_size=3, stride=1, padding=1),\n",
    "            nn.ReLU(),\n",
    "            nn.MaxPool2d(kernel_size=2, stride=2),\n",
    "        )\n",
    "        self.fc1 = nn.Linear(64 * 58 * 116 + 4, 128)  # Add 4 for demographic features\n",
    "        self.fc2 = nn.Linear(128, 4)  # Output layer\n",
    "\n",
    "    def forward(self, images, demographics):\n",
    "        batch_size = images.size(0)\n",
    "        num_images = images.size(1)\n",
    "        \n",
    "        # Process each image through the CNN\n",
    "        cnn_features = []\n",
    "        for i in range(num_images):\n",
    "            features = self.cnn(images[:, i])\n",
    "            #print(f\"CNN output shape: {features.shape}\")  # Should be [8, 64, 58, 116]\n",
    "            features = features.view(batch_size, -1)  # Flatten the features\n",
    "            #print(f\"Flattened features shape: {features.shape}\")  # Should be [8, 430592]\n",
    "            cnn_features.append(features)\n",
    "        \n",
    "        # Average features across all images\n",
    "        cnn_features = torch.mean(torch.stack(cnn_features), dim=0)\n",
    "        \n",
    "        # Concatenate with demographic data\n",
    "        combined = torch.cat((cnn_features, demographics), dim=1)\n",
    "        #print(f\"Combined shape: {combined.shape}\")  # Should be [8, 430596]\n",
    "        \n",
    "        # Final fully connected layer\n",
    "        output = self.fc2(F.relu(self.fc1(combined)))\n",
    "        return output"
   ]
  },
  {
   "cell_type": "code",
   "execution_count": 8,
   "metadata": {},
   "outputs": [
    {
     "name": "stdout",
     "output_type": "stream",
     "text": [
      "              ID M/F Hand  Age  Educ  SES  MMSE  CDR  eTIV   nWBV    ASF  \\\n",
      "0  OAS1_0001_MR1   F    R   74   2.0  3.0  29.0  0.0  1344  0.743  1.306   \n",
      "1  OAS1_0002_MR1   F    R   55   4.0  1.0  29.0  0.0  1147  0.810  1.531   \n",
      "2  OAS1_0003_MR1   F    R   73   4.0  3.0  27.0  0.5  1454  0.708  1.207   \n",
      "3  OAS1_0004_MR1   M    R   28   NaN  NaN   NaN  NaN  1588  0.803  1.105   \n",
      "4  OAS1_0005_MR1   M    R   18   NaN  NaN   NaN  NaN  1737  0.848  1.010   \n",
      "\n",
      "   Delay                                         ImagePaths  DementiaCategory  \n",
      "0    NaN  [D:\\Projetos\\AlzheimerEarlyDetection_v3\\datase...       NonDemented  \n",
      "1    NaN  [D:\\Projetos\\AlzheimerEarlyDetection_v3\\datase...       NonDemented  \n",
      "2    NaN  [D:\\Projetos\\AlzheimerEarlyDetection_v3\\datase...  VeryMildDemented  \n",
      "3    NaN  [D:\\Projetos\\AlzheimerEarlyDetection_v3\\datase...       NonDemented  \n",
      "4    NaN  [D:\\Projetos\\AlzheimerEarlyDetection_v3\\datase...       NonDemented  \n"
     ]
    }
   ],
   "source": [
    "import os\n",
    "\n",
    "# Define the path to your image dataset\n",
    "image_dir = 'D:\\\\Projetos\\\\AlzheimerEarlyDetection_v3\\\\datasets'\n",
    "\n",
    "# Create a mapping from image paths to their dementia category\n",
    "image_to_category = {}\n",
    "for root, dirs, files in os.walk(image_dir):\n",
    "    for file in files:\n",
    "        if file.endswith('.png'):\n",
    "            # Extract the subfolder name (dementia category)\n",
    "            category = os.path.basename(root)\n",
    "            image_to_category[os.path.join(root, file)] = category\n",
    "\n",
    "# Add the dementia category to the DataFrame\n",
    "oasis_data['DementiaCategory'] = oasis_data['ImagePaths'].apply(\n",
    "    lambda paths: image_to_category.get(paths[0], None)  # Use the first image's category for the ID\n",
    ")\n",
    "\n",
    "# Drop rows with no dementia category\n",
    "oasis_data = oasis_data.dropna(subset=['DementiaCategory'])\n",
    "\n",
    "# Display the updated dataframe\n",
    "print(oasis_data.head())"
   ]
  },
  {
   "cell_type": "code",
   "execution_count": 9,
   "metadata": {},
   "outputs": [],
   "source": [
    "from torch.utils.data import DataLoader\n",
    "\n",
    "torch.cuda.empty_cache()\n",
    "\n",
    "# Define transformations\n",
    "transform = transforms.Compose([\n",
    "    transforms.Resize((116, 232)),  # Resize to match your image size\n",
    "    transforms.ToTensor(),          # Convert to tensor\n",
    "])\n",
    "\n",
    "# Create the dataset\n",
    "dataset = DementiaDataset(oasis_data, transform=transform)\n",
    "dataloader = DataLoader(dataset, batch_size=16, shuffle=True, num_workers=8, pin_memory=True)"
   ]
  },
  {
   "cell_type": "code",
   "execution_count": null,
   "metadata": {},
   "outputs": [
    {
     "name": "stdout",
     "output_type": "stream",
     "text": [
      "Using device: cuda\n",
      "cuda:0\n",
      "antes do for\n",
      "entrou no for 1\n"
     ]
    }
   ],
   "source": [
    "#from torch.amp import GradScaler, autocast\n",
    "\n",
    "device = torch.device('cuda' if torch.cuda.is_available() else 'cpu')\n",
    "print(f'Using device: {device}')  # Deve imprimir 'cuda'\n",
    "\n",
    "model = DementiaModel().to(device) \n",
    "print(next(model.parameters()).device) # Deve imprimir 'cuda:0'\n",
    "\n",
    "criterion = nn.CrossEntropyLoss()\n",
    "optimizer = torch.optim.Adam(model.parameters(), lr=0.001)\n",
    "#scaler = GradScaler()\n",
    "\n",
    "# for epoch in range(10):  # Number of epochs\n",
    "#     for images, demographics, labels in dataloader:\n",
    "#         images, demographics, labels = images.to(device), demographics.to(device), labels.to(device)\n",
    "        \n",
    "#         optimizer.zero_grad()\n",
    "#         with autocast():  # Enable mixed precision\n",
    "#             outputs = model(images, demographics)\n",
    "#             loss = criterion(outputs, labels)\n",
    "            \n",
    "#         scaler.scale(loss).backward()  # Scale loss and backpropagate\n",
    "#         scaler.step(optimizer)  # Update weights\n",
    "#         scaler.update()  # Update the scaler\n",
    "    \n",
    "#     print(f'Epoch {epoch+1}, Loss: {loss.item()}')\n",
    "\n",
    "print('antes do for')\n",
    "for epoch in range(10):  # Número de épocas\n",
    "    epoch_loss = 0  \n",
    "    print('entrou no for 1')\n",
    "    for images, demographics, labels in dataloader:\n",
    "        print(images)\n",
    "        print(demographics)\n",
    "        print(labels)\n",
    "        print('antes do images, demographics, labels = images.to(device), demographics.to(device), labels.to(device)')\n",
    "        images, demographics, labels = images.to(device), demographics.to(device), labels.to(device)\n",
    "        print('depois do images, demographics, labels = images.to(device), demographics.to(device), labels.to(device)')\n",
    "\n",
    "        optimizer.zero_grad()\n",
    "        outputs = model(images, demographics)  # Forward Pass\n",
    "        loss = criterion(outputs, labels)  # Compute Loss\n",
    "\n",
    "        loss.backward()  # Backpropagation\n",
    "        optimizer.step()  # Update Weights\n",
    "\n",
    "        epoch_loss += loss.item()\n",
    "\n",
    "    print(f'Epoch {epoch+1}, Loss: {epoch_loss / len(dataloader)}')"
   ]
  },
  {
   "cell_type": "code",
   "execution_count": null,
   "metadata": {},
   "outputs": [],
   "source": [
    "import matplotlib.pyplot as plt\n",
    "import seaborn as sns\n",
    "\n",
    "# Example: Plot age vs. predicted dementia severity\n",
    "predictions = []\n",
    "ages = []\n",
    "with torch.no_grad():\n",
    "    for images, demographics, labels in dataloader:\n",
    "        images, demographics = images.to(device), demographics.to(device)\n",
    "        outputs = model(images, demographics)\n",
    "        predictions.extend(torch.argmax(outputs, dim=1).cpu().numpy())\n",
    "        ages.extend(demographics[:, 0].cpu().numpy())\n",
    "\n",
    "plt.scatter(ages, predictions)\n",
    "plt.xlabel('Age')\n",
    "plt.ylabel('Predicted Dementia Severity')\n",
    "plt.show()"
   ]
  }
 ],
 "metadata": {
  "kernelspec": {
   "display_name": "Python 3",
   "language": "python",
   "name": "python3"
  },
  "language_info": {
   "codemirror_mode": {
    "name": "ipython",
    "version": 3
   },
   "file_extension": ".py",
   "mimetype": "text/x-python",
   "name": "python",
   "nbconvert_exporter": "python",
   "pygments_lexer": "ipython3",
   "version": "3.10.6"
  }
 },
 "nbformat": 4,
 "nbformat_minor": 2
}
